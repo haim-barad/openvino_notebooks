{
 "cells": [
  {
   "cell_type": "code",
   "execution_count": null,
   "id": "9cdf9943-9ada-45b4-b06b-062bacc20121",
   "metadata": {},
   "outputs": [],
   "source": [
    "# Early Exit NLP"
   ]
  },
  {
   "cell_type": "code",
   "execution_count": null,
   "id": "1dfb0597-4404-4505-80ce-ee56bc9fdd14",
   "metadata": {},
   "outputs": [],
   "source": [
    "!pip install --upgrade-strategy eager \"optimum[openvino,nncf]\""
   ]
  },
  {
   "cell_type": "code",
   "execution_count": null,
   "id": "3b12d4d3-37fe-4729-a051-2d8093553b0c",
   "metadata": {},
   "outputs": [],
   "source": [
    "import torch\n",
    "from optimum.intel import OVModelForQuestionAnswering\n",
    "from transformers import AutoConfig, AutoTokenizer, pipeline, AutoModelForQuestionAnswering"
   ]
  },
  {
   "cell_type": "code",
   "execution_count": null,
   "id": "6e8b7fd7-bd6c-43aa-a729-01aae45646a1",
   "metadata": {},
   "outputs": [],
   "source": [
    "from ee_model.configuration_ee import EarlyExitConfig\n",
    "from ee_model.modeling_ee import EarlyExitModelForQuestionAnswering\n",
    "\n",
    "EarlyExitConfig.register_for_auto_class()\n",
    "EarlyExitModelForQuestionAnswering.register_for_auto_class(\"AutoModelForQuestionAnswering\")"
   ]
  },
  {
   "cell_type": "code",
   "execution_count": null,
   "id": "871f34e5-4841-4933-9b78-dc6787a1c6e7",
   "metadata": {
    "scrolled": true
   },
   "outputs": [],
   "source": [
    "model_id = \"bert-base-uncased\"\n",
    "tokenizer = AutoTokenizer.from_pretrained(model_id)\n",
    "config = EarlyExitConfig(base_model=model_id)\n",
    "model = EarlyExitModelForQuestionAnswering(config)\n",
    "model.set_entropy_threshold(10.0)\n",
    "model.save_pretrained(\"ee_model_ckpts\")\n",
    "#model = OVModelForQuestionAnswering.from_pretrained(\"ee_model_ckpts\", export=True)\n",
    "\n",
    "questions = [\"Which name is also used to describe the Amazon rainforest in English?\", \"Where do I live?\"]\n",
    "contexts =  [\"The Amazon rainforest (Portuguese: Floresta Amazônica or Amazônia; Spanish: Selva Amazónica, Amazonía or usually Amazonia; French: Forêt amazonienne; Dutch: Amazoneregenwoud), also known in English as Amazonia or the Amazon Jungle, is a moist broadleaf forest that covers most of the Amazon basin of South America. This basin encompasses 7,000,000 square kilometres (2,700,000 sq mi), of which 5,500,000 square kilometres (2,100,000 sq mi) are covered by the rainforest. This region includes territory belonging to nine nations. The majority of the forest is contained within Brazil, with 60% of the rainforest, followed by Peru with 13%, Colombia with 10%, and with minor amounts in Venezuela, Ecuador, Bolivia, Guyana, Suriname and French Guiana. States or departments in four nations contain \\\"Amazonas\\\" in their names. The Amazon represents over half of the planet's remaining rainforests, and comprises the largest and most biodiverse tract of tropical rainforest in the world, with an estimated 390 billion individual trees divided into 16,000 species.\", \"My name is Clara and I live in Berkeley.\"]\n",
    "\n",
    "answerer = pipeline(\"question-answering\", model=model, tokenizer=tokenizer, device=0 if torch.cuda.is_available() else -1)\n",
    "\n",
    "for i in range(len(questions)):\n",
    "    response = answerer(question=questions[i], context=contexts[i])\n",
    "    print(response)"
   ]
  },
  {
   "cell_type": "code",
   "execution_count": null,
   "id": "b88eef7e-7198-433e-925d-413f7d1e79a5",
   "metadata": {},
   "outputs": [],
   "source": []
  }
 ],
 "metadata": {
  "kernelspec": {
   "display_name": "Python 3 (ipykernel)",
   "language": "python",
   "name": "python3"
  },
  "language_info": {
   "codemirror_mode": {
    "name": "ipython",
    "version": 3
   },
   "file_extension": ".py",
   "mimetype": "text/x-python",
   "name": "python",
   "nbconvert_exporter": "python",
   "pygments_lexer": "ipython3",
   "version": "3.8.10"
  }
 },
 "nbformat": 4,
 "nbformat_minor": 5
}
